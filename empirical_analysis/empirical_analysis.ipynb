{
 "cells": [
  {
   "cell_type": "markdown",
   "metadata": {},
   "source": [
    "# Empirical Analysis\n",
    "As motivation for the paper we study occurence of overpractice and empirical solution paths."
   ]
  },
  {
   "cell_type": "code",
   "execution_count": null,
   "metadata": {},
   "outputs": [],
   "source": [
    "# imports\n",
    "import os\n",
    "os.chdir(\"..\")\n",
    "import json\n",
    "import numpy as np\n",
    "from collections import defaultdict\n",
    "from src.util import read_file\n",
    "from src.bkt_inference import BKTInference"
   ]
  },
  {
   "cell_type": "code",
   "execution_count": null,
   "metadata": {},
   "outputs": [],
   "source": [
    "# definitions\n",
    "DATE_STRING = \"%Y-%m-%d %H:%M:%S\"\n",
    "BASE_PATH = \"./Path/\"\n",
    "COL_NAMES = [\"Anon Student Id\", \"Problem Hierarchy\", \"Problem Name\",\n",
    "    \"KC (Default)\", \"Opportunity (Default)\", \"First Attempt\", \"Step Name\"]\n",
    "KC_COUNTS = {\n",
    "    \"subtraction-var\": 0,\n",
    "    \"subtraction-const\": 0,\n",
    "    \"divide\": 0,\n",
    "    \"division-simple\": 0,\n",
    "    \"combine-like-var\": 0,\n",
    "    \"combine-like-const\": 0,\n",
    "    \"cancel-var\": 0,\n",
    "    \"cancel-const\": 0,\n",
    "    \"distribute-multiplication\": 0,   \n",
    "}\n",
    "BKTParas = './data/bkt_paras_tutorshop.csv'\n",
    "SKC = \"Opportunity (Single-KC)\"\n",
    "MASTERY_THRESHOLD = 0.95"
   ]
  },
  {
   "cell_type": "code",
   "execution_count": null,
   "metadata": {},
   "outputs": [],
   "source": [
    "# load data\n",
    "df = read_file('./data/apta-combined.txt')\n",
    "print(\"Number of problems:\", len([n for n in df[\"Problem Name\"].unique() if \n",
    "                                  (\"_start\" not in n) and (\"_end\" not in n)]))\n",
    "df.head(3)"
   ]
  },
  {
   "cell_type": "markdown",
   "metadata": {},
   "source": [
    "### Extract students' solution paths"
   ]
  },
  {
   "cell_type": "code",
   "execution_count": null,
   "metadata": {},
   "outputs": [],
   "source": [
    "# extract student sequences\n",
    "sequences = {}\n",
    "for s_id in df[\"Anon Student Id\"].unique():\n",
    "    s_df = df[df[\"Anon Student Id\"] == s_id]\n",
    "    ps = []\n",
    "    for p in s_df[\"Problem Name\"]:\n",
    "        if \"_start\" in p or \"_end\" in p:\n",
    "            continue\n",
    "        if p not in ps:\n",
    "            ps.append(p)\n",
    "    if len(ps) >= 10:\n",
    "        sequences[s_id] = ps\n",
    "\n",
    "# get max length_seq\n",
    "seqs = [(len(sequences[s_id]), s_id) for s_id in sequences]\n",
    "seqs.sort(reverse=True)\n",
    "ref_req = sequences[seqs[0][1]]\n",
    "print(\"max len:\", len(ref_req))\n",
    "print(\"mean len:\", round(np.mean([len(sequences[s]) for s in sequences])))\n",
    "print(ref_req)"
   ]
  },
  {
   "cell_type": "markdown",
   "metadata": {},
   "source": [
    "### Study master and under/over-practice"
   ]
  },
  {
   "cell_type": "code",
   "execution_count": null,
   "metadata": {},
   "outputs": [],
   "source": [
    "# prepare student data\n",
    "student_data = {}\n",
    "for s_id in sequences:\n",
    "    s_df = df[df[\"Anon Student Id\"] == s_id]\n",
    "    assert np.all(s_df[SKC].values[:-1] < s_df[SKC].values[1:]), \"order check\"\n",
    "\n",
    "    # preprocess student attempts\n",
    "    student_data[s_id] = {k: {\"att_number\": [], \"correct\": []}\n",
    "                          for k in KC_COUNTS}\n",
    "    for kcs, correct in s_df[['KC (Default)', 'success']].values:\n",
    "        for kc in kcs.split(\"~~\"):\n",
    "            n = len(student_data[s_id][kc][\"att_number\"]) + 1\n",
    "            student_data[s_id][kc][\"att_number\"].append(n)\n",
    "            student_data[s_id][kc][\"correct\"].append(correct)"
   ]
  },
  {
   "cell_type": "code",
   "execution_count": null,
   "metadata": {},
   "outputs": [],
   "source": [
    "# NOTE: Average number of opportunity per KC\n",
    "print(\"Average number of opportunity per KC\\n\")\n",
    "totals = 0\n",
    "for kc in KC_COUNTS:\n",
    "    avg = np.mean([len(student_data[s][kc][\"correct\"]) for s in student_data])\n",
    "    totals += avg\n",
    "    print(kc, round(avg, 1))\n",
    "print(\"\")\n",
    "print(round(totals, 4))"
   ]
  },
  {
   "cell_type": "code",
   "execution_count": null,
   "metadata": {},
   "outputs": [],
   "source": [
    "# NOTE: Percent of students that achieved mastery for each KC\n",
    "print(\"Percent of students that achieved mastery for each KC\\n\")\n",
    "bkt_inf = BKTInference(para_path=BKTParas)\n",
    "masteries = {k: [] for k in KC_COUNTS}\n",
    "for s_id in student_data:\n",
    "    for k in KC_COUNTS:\n",
    "        bkt_pred = bkt_inf.manual_bkt(k, student_data[s_id][k][\"correct\"])[-1]\n",
    "        masteries[k].append(bkt_pred >= MASTERY_THRESHOLD)\n",
    "\n",
    "for k in KC_COUNTS:\n",
    "    print(k, round(np.mean(masteries[k]), 3))"
   ]
  },
  {
   "cell_type": "code",
   "execution_count": null,
   "metadata": {},
   "outputs": [],
   "source": [
    "# NOTE: Number of over/under-practice for each KC\n",
    "print(\"Number of over/under-practice for each KC\\n\")\n",
    "under = {k: [] for k in KC_COUNTS}\n",
    "over = {k: [] for k in KC_COUNTS}\n",
    "for s_id in student_data:\n",
    "    for k in KC_COUNTS:\n",
    "        preds = bkt_inf.manual_bkt(k, student_data[s_id][k][\"correct\"])\n",
    "    \n",
    "        # determine overpractice\n",
    "        for idx in range(1, len(preds) + 1):\n",
    "            mastery = preds[-idx]\n",
    "            if mastery < MASTERY_THRESHOLD:  # most recent below\n",
    "                break\n",
    "        overpractice = max(0, (idx - 2))\n",
    "        over[k].append(overpractice)\n",
    "\n",
    "print(\"\\nAverage Overpractice\") \n",
    "for k in KC_COUNTS:\n",
    "    print(k, round(np.mean(over[k]), 1), \"--\", np.sum([v for v in over[k] if v>0]), \"--\", round(np.mean([v for v in over[k] if v > 0]), 1))"
   ]
  },
  {
   "cell_type": "markdown",
   "metadata": {},
   "source": [
    "### Take most common empirical solution as reference"
   ]
  },
  {
   "cell_type": "code",
   "execution_count": null,
   "metadata": {},
   "outputs": [],
   "source": [
    "# NOTE: For each problem find most common correct solution\n",
    "f_df = read_file(\"./data/apta-combined.txt\")\n",
    "com_sol_path = defaultdict(lambda: defaultdict(lambda: 0))\n",
    "for s_id in f_df[\"Anon Student Id\"].unique():\n",
    "    s_df = f_df[f_df[\"Anon Student Id\"] == s_id]\n",
    "    for q_id in list(s_df[\"Problem Name\"].unique())[:-1]:\n",
    "        q_df = s_df[q_id == s_df[\"Problem Name\"]]\n",
    "        if np.all(q_df[\"First Attempt\"].values == \"correct\"):\n",
    "            sol = list(q_df[\"KC (Default)\"].values)\n",
    "            com_sol_path[q_id][str(sol)] += 1\n",
    "\n",
    "for q in com_sol_path:\n",
    "    # find common solution\n",
    "    com_sol, com_c = \"\", 0\n",
    "    for k in com_sol_path[q]:\n",
    "        kcs = [e[1:-1] for e in k[1:-1].split(\", \")]\n",
    "        if com_sol_path[q][k] > com_c:\n",
    "            com_sol = kcs\n",
    "            com_c = com_sol_path[q][k]\n",
    "        elif com_sol_path[q][k] == com_c:\n",
    "            if len(kcs) > len(com_sol):\n",
    "                com_sol = kcs\n",
    "                com_c = com_sol_path[q][k]\n",
    "    com_sol_path[q] = kcs"
   ]
  },
  {
   "cell_type": "code",
   "execution_count": null,
   "metadata": {},
   "outputs": [],
   "source": [
    "# aggregated opportunity counts over time\n",
    "aggregated_counts = [KC_COUNTS.copy()]\n",
    "for q in ref_req:\n",
    "    if q not in com_sol_path:\n",
    "        print(\"misses \" + q)\n",
    "        continue\n",
    "    cs = aggregated_counts[-1].copy()\n",
    "    for i, step in enumerate(com_sol_path[q]):\n",
    "        for kc in step.split(\"~~\"):\n",
    "            cs[kc] += 1\n",
    "    aggregated_counts.append(cs)\n",
    "problem_counts = [len(sequences[s]) for s in sequences]"
   ]
  },
  {
   "cell_type": "code",
   "execution_count": null,
   "metadata": {},
   "outputs": [],
   "source": [
    "print(\"Median solved\", np.median(problem_counts))\n",
    "print(\"Quantile solved\", np.percentile(problem_counts, 75))\n",
    "print(\"Quantile solved\", np.percentile(problem_counts, 25))"
   ]
  },
  {
   "cell_type": "code",
   "execution_count": null,
   "metadata": {},
   "outputs": [],
   "source": [
    "print(\"Quantile solved\", np.percentile(problem_counts, [x for x in range(0, 105, 5)]))"
   ]
  },
  {
   "cell_type": "code",
   "execution_count": null,
   "metadata": {},
   "outputs": [],
   "source": [
    "# store basic KC steps\n",
    "basic_kc_steps = dict(com_sol_path)\n",
    "for k in basic_kc_steps:\n",
    "    kcs = [e.split(\"~~\") for e in basic_kc_steps[k]]\n",
    "    basic_kc_steps[k] = kcs\n",
    "with open(\"./data/common_solution_path.json\", \"w\") as file:\n",
    "    json.dump(basic_kc_steps, file, indent=4)\n",
    "basic_kc_steps"
   ]
  }
 ],
 "metadata": {
  "kernelspec": {
   "display_name": "Python 3 (ipykernel)",
   "language": "python",
   "name": "python3"
  },
  "language_info": {
   "codemirror_mode": {
    "name": "ipython",
    "version": 3
   },
   "file_extension": ".py",
   "mimetype": "text/x-python",
   "name": "python",
   "nbconvert_exporter": "python",
   "pygments_lexer": "ipython3",
   "version": "3.10.14"
  }
 },
 "nbformat": 4,
 "nbformat_minor": 4
}
